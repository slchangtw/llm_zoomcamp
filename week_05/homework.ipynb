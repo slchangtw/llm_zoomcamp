{
 "cells": [
  {
   "cell_type": "code",
   "execution_count": null,
   "metadata": {},
   "outputs": [],
   "source": [
    "import io\n",
    "import hashlib\n",
    "\n",
    "import requests\n",
    "import docx"
   ]
  },
  {
   "cell_type": "code",
   "execution_count": null,
   "metadata": {},
   "outputs": [],
   "source": [
    "def clean_line(line):\n",
    "    line = line.strip()\n",
    "    line = line.strip(\"\\uFEFF\")\n",
    "    return line\n",
    "\n",
    "\n",
    "def read_faq(file_id):\n",
    "    url = f\"https://docs.google.com/document/d/{file_id}/export?format=docx\"\n",
    "\n",
    "    response = requests.get(url)\n",
    "    response.raise_for_status()\n",
    "\n",
    "    with io.BytesIO(response.content) as f_in:\n",
    "        doc = docx.Document(f_in)\n",
    "\n",
    "    questions = []\n",
    "\n",
    "    question_heading_style = \"heading 2\"\n",
    "    section_heading_style = \"heading 1\"\n",
    "\n",
    "    heading_id = \"\"\n",
    "    section_title = \"\"\n",
    "    question_title = \"\"\n",
    "    answer_text_so_far = \"\"\n",
    "\n",
    "    for p in doc.paragraphs:\n",
    "        style = p.style.name.lower()\n",
    "        p_text = clean_line(p.text)\n",
    "\n",
    "        if len(p_text) == 0:\n",
    "            continue\n",
    "\n",
    "        if style == section_heading_style:\n",
    "            section_title = p_text\n",
    "            continue\n",
    "\n",
    "        if style == question_heading_style:\n",
    "            answer_text_so_far = answer_text_so_far.strip()\n",
    "            if (\n",
    "                answer_text_so_far != \"\"\n",
    "                and section_title != \"\"\n",
    "                and question_title != \"\"\n",
    "            ):\n",
    "                questions.append(\n",
    "                    {\n",
    "                        \"text\": answer_text_so_far,\n",
    "                        \"section\": section_title,\n",
    "                        \"question\": question_title,\n",
    "                    }\n",
    "                )\n",
    "                answer_text_so_far = \"\"\n",
    "\n",
    "            question_title = p_text\n",
    "            continue\n",
    "\n",
    "        answer_text_so_far += \"\\n\" + p_text\n",
    "\n",
    "    answer_text_so_far = answer_text_so_far.strip()\n",
    "    if answer_text_so_far != \"\" and section_title != \"\" and question_title != \"\":\n",
    "        questions.append(\n",
    "            {\n",
    "                \"text\": answer_text_so_far,\n",
    "                \"section\": section_title,\n",
    "                \"question\": question_title,\n",
    "            }\n",
    "        )\n",
    "\n",
    "    return questions\n",
    "\n",
    "\n",
    "def fetch_documents(faq_documents: dict[str, str]) -> list[dict]:\n",
    "    documents = []\n",
    "\n",
    "    for course, file_id in faq_documents.items():\n",
    "        course_documents = read_faq(file_id)\n",
    "        documents.append({\"course\": course, \"documents\": course_documents})\n",
    "\n",
    "    return documents\n",
    "\n",
    "\n",
    "def generate_document_id(doc):\n",
    "    combined = f\"{doc['course']}-{doc['question']}-{doc['text'][:10]}\"\n",
    "    hash_object = hashlib.md5(combined.encode())\n",
    "    hash_hex = hash_object.hexdigest()\n",
    "    document_id = hash_hex[:8]\n",
    "    return document_id\n",
    "\n",
    "\n",
    "def process_documents(documents: list[dict]) -> list[dict]:\n",
    "    docs = []\n",
    "\n",
    "    for data in documents:\n",
    "        for doc in data[\"documents\"]:\n",
    "            doc[\"course\"] = data[\"course\"]\n",
    "            doc[\"document_id\"] = generate_document_id(doc)\n",
    "            docs.append(doc)\n",
    "\n",
    "    return docs"
   ]
  },
  {
   "cell_type": "markdown",
   "metadata": {},
   "source": [
    "# Question 2"
   ]
  },
  {
   "cell_type": "code",
   "execution_count": null,
   "metadata": {},
   "outputs": [],
   "source": [
    "faq_documents_v1 = {\n",
    "    \"llm-zoomcamp\": \"1qZjwHkvP0lXHiE4zdbWyUXSVfmVGzougDD6N37bat3E\",\n",
    "}\n",
    "\n",
    "documents_v1 = fetch_documents(faq_documents_v1)\n",
    "len(documents_v1)"
   ]
  },
  {
   "cell_type": "markdown",
   "metadata": {},
   "source": [
    "# Question 3"
   ]
  },
  {
   "cell_type": "code",
   "execution_count": null,
   "metadata": {},
   "outputs": [],
   "source": [
    "processed_documents_v1 = process_documents(documents_v1)\n",
    "len(processed_documents_v1)"
   ]
  },
  {
   "cell_type": "markdown",
   "metadata": {},
   "source": [
    "# Question 4"
   ]
  },
  {
   "cell_type": "code",
   "execution_count": null,
   "metadata": {},
   "outputs": [],
   "source": [
    "from elasticsearch import Elasticsearch\n",
    "from tqdm import tqdm"
   ]
  },
  {
   "cell_type": "code",
   "execution_count": null,
   "metadata": {},
   "outputs": [],
   "source": [
    "es_client = Elasticsearch(\"http://localhost:9200\")\n",
    "\n",
    "index_settings = {\n",
    "    \"settings\": {\"number_of_shards\": 1, \"number_of_replicas\": 0},\n",
    "    \"mappings\": {\n",
    "        \"properties\": {\n",
    "            \"text\": {\"type\": \"text\"},\n",
    "            \"section\": {\"type\": \"text\"},\n",
    "            \"question\": {\"type\": \"text\"},\n",
    "            \"course\": {\"type\": \"keyword\"},\n",
    "            \"document_id\": {\"type\": \"keyword\"},\n",
    "        }\n",
    "    },\n",
    "}\n",
    "\n",
    "index_name = \"course-questions\"\n",
    "\n",
    "es_client.indices.delete(index=index_name, ignore_unavailable=True)\n",
    "es_client.indices.create(index=index_name, body=index_settings)"
   ]
  },
  {
   "cell_type": "code",
   "execution_count": null,
   "metadata": {},
   "outputs": [],
   "source": [
    "for doc in tqdm(processed_documents_v1):\n",
    "    es_client.index(index=index_name, document=doc)"
   ]
  },
  {
   "cell_type": "code",
   "execution_count": null,
   "metadata": {},
   "outputs": [],
   "source": [
    "response = es_client.search(index=index_name, body={\"query\": {\"match_all\": {}}})\n",
    "response[\"hits\"][\"hits\"][-1]"
   ]
  },
  {
   "cell_type": "markdown",
   "metadata": {},
   "source": [
    "# Question 5"
   ]
  },
  {
   "cell_type": "code",
   "execution_count": null,
   "metadata": {},
   "outputs": [],
   "source": [
    "query = \"When is the next cohort?\"\n",
    "response = es_client.search(index=index_name, body={\n",
    "    \"size\": 1,\n",
    "    \"query\": {\n",
    "        \"bool\": {\"must\": {\"multi_match\": {\"query\": query, \"type\": \"best_fields\"}}}\n",
    "    },\n",
    "})\n",
    "response[\"hits\"][\"hits\"][0]"
   ]
  },
  {
   "cell_type": "markdown",
   "metadata": {},
   "source": [
    "# Question 6"
   ]
  },
  {
   "cell_type": "code",
   "execution_count": null,
   "metadata": {},
   "outputs": [],
   "source": [
    "faq_documents_v2 = {\n",
    "    \"llm-zoomcamp\": \"1T3MdwUvqCL3jrh3d3VCXQ8xE0UqRzI3bfgpfBq3ZWG0\",\n",
    "}\n",
    "\n",
    "documents_v2 = fetch_documents(faq_documents_v2)\n",
    "processed_documents_v2 = process_documents(documents_v2)"
   ]
  },
  {
   "cell_type": "code",
   "execution_count": null,
   "metadata": {},
   "outputs": [],
   "source": [
    "es_client.indices.delete(index=index_name, ignore_unavailable=True)\n",
    "es_client.indices.create(index=index_name, body=index_settings)\n",
    "\n",
    "for doc in tqdm(processed_documents_v2):\n",
    "    es_client.index(index=index_name, document=doc)"
   ]
  },
  {
   "cell_type": "code",
   "execution_count": null,
   "metadata": {},
   "outputs": [],
   "source": [
    "query = \"When is the next cohort?\"\n",
    "\n",
    "response = es_client.search(index=index_name, body={\n",
    "    \"size\": 1,\n",
    "    \"query\": {\n",
    "        \"bool\": {\"must\": {\"multi_match\": {\"query\": query, \"type\": \"best_fields\"}}}\n",
    "    },\n",
    "})\n",
    "response[\"hits\"][\"hits\"][0]"
   ]
  },
  {
   "cell_type": "code",
   "execution_count": null,
   "metadata": {},
   "outputs": [],
   "source": []
  }
 ],
 "metadata": {
  "kernelspec": {
   "display_name": ".venv",
   "language": "python",
   "name": "python3"
  },
  "language_info": {
   "codemirror_mode": {
    "name": "ipython",
    "version": 3
   },
   "file_extension": ".py",
   "mimetype": "text/x-python",
   "name": "python",
   "nbconvert_exporter": "python",
   "pygments_lexer": "ipython3",
   "version": "3.11.5"
  }
 },
 "nbformat": 4,
 "nbformat_minor": 2
}
